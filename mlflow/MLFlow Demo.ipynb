{
 "cells": [
  {
   "cell_type": "code",
   "execution_count": null,
   "metadata": {},
   "outputs": [],
   "source": [
    "# Load the required libraries\n",
    "# mlflow components\n",
    "from mlflow import pymodel\n",
    "from mlflow import client\n",
    "\n",
    "# for model building\n",
    "import sklearn\n",
    "from sklearn.datasets import load_breast_cancer\n",
    "from sklearn.model_selection import train_test_split\n",
    "from sklearn.naive_bayes import GaussianNB\n",
    "import pandas as pd"
   ]
  },
  {
   "cell_type": "code",
   "execution_count": null,
   "metadata": {},
   "outputs": [],
   "source": [
    "# Create a training job independent of mlflow\n",
    "\n",
    "\n",
    "# Load dataset\n",
    "data = load_breast_cancer()\n",
    "\n",
    "# Organize our data\n",
    "label_names = data['target_names']\n",
    "labels = data['target']\n",
    "feature_names = data['feature_names']\n",
    "features = data['data']\n",
    "\n",
    "# Split our data\n",
    "X_train, X_test, y_train, y_test = train_test_split(features,\n",
    "                                                    labels,\n",
    "                                                    test_size=0.33,\n",
    "                                                    random_state=42)\n",
    "\n",
    "# Initialize our classifier\n",
    "gnb = GaussianNB()\n",
    "\n",
    "# Train our classifier\n",
    "model = gnb.fit(X_train, y_train)\n",
    "\n",
    "train_pred_probs = model.predict_proba(X_train)[:, 0]\n",
    "\n",
    "valid_pred_probs = model.predict_proba(X_test)[:, 0]"
   ]
  },
  {
   "cell_type": "code",
   "execution_count": null,
   "metadata": {},
   "outputs": [],
   "source": [
    "# Now we have the model ready. Now create a PyModel for mlflow to manage\n",
    "# create a pymodel\n",
    "pymodel = PyModel(model=model, features=feature_names, split=0.33, feature_columns=feature_names,\n",
    "                  target_column=label_names,\n",
    "                  model_uuid=\"Demo_Model1\", model_tag=\"Demo_Model\", model_version=\"0.1\",\n",
    "                  train_actuals=y_train, train_pred_probs=train_pred_probs, valid_actuals=y_test,\n",
    "                  valid_pred_probs=valid_pred_probs)\n",
    "df = pymodel()\n",
    "print(df)"
   ]
  },
  {
   "cell_type": "code",
   "execution_count": null,
   "metadata": {},
   "outputs": [],
   "source": [
    "# Now create an mlflow client to upload the model to the model repo\n",
    "client = Client()\n",
    "client.upload_model(pymodel)"
   ]
  },
  {
   "cell_type": "code",
   "execution_count": null,
   "metadata": {},
   "outputs": [],
   "source": [
    "# anyone can donwload the model and use it\n",
    "mdl = client.load_model(model_uuid=\"Demo_Model1\")\n"
   ]
  },
  {
   "cell_type": "code",
   "execution_count": 10,
   "metadata": {},
   "outputs": [
    {
     "name": "stdout",
     "output_type": "stream",
     "text": [
      "80 = -0.5\n",
      "81 = -0.47368421052631576\n",
      "82 = -0.4444444444444444\n",
      "83 = -0.4117647058823529\n",
      "84 = -0.375\n",
      "85 = -0.3333333333333333\n",
      "86 = -0.2857142857142857\n",
      "87 = -0.23076923076923078\n",
      "88 = -0.16666666666666666\n",
      "89 = -0.09090909090909091\n",
      "90 = 0.0\n",
      "91 = 0.1111111111111111\n",
      "92 = 0.25\n",
      "93 = 0.42857142857142855\n",
      "94 = 0.6666666666666666\n",
      "95 = 1.0\n",
      "96 = 1.5\n",
      "97 = 2.3333333333333335\n",
      "98 = 4.0\n",
      "99 = 9.0\n"
     ]
    }
   ],
   "source": [
    "for x in range(80, 100):\n",
    "    print(\"{} = {}\".format(x, (x - 90)/(100 - x)))"
   ]
  },
  {
   "cell_type": "code",
   "execution_count": null,
   "metadata": {},
   "outputs": [],
   "source": []
  }
 ],
 "metadata": {
  "kernelspec": {
   "display_name": "Python 3",
   "language": "python",
   "name": "python3"
  },
  "language_info": {
   "codemirror_mode": {
    "name": "ipython",
    "version": 3
   },
   "file_extension": ".py",
   "mimetype": "text/x-python",
   "name": "python",
   "nbconvert_exporter": "python",
   "pygments_lexer": "ipython3",
   "version": "3.6.8"
  }
 },
 "nbformat": 4,
 "nbformat_minor": 2
}
