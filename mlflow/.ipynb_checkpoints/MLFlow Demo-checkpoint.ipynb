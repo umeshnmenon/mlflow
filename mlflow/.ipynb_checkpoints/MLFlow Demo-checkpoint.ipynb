{
 "cells": [
  {
   "cell_type": "code",
   "execution_count": null,
   "metadata": {},
   "outputs": [],
   "source": [
    "# Load the required libraries\n",
    "# mlflow components\n",
    "from mlflow import pymodel\n",
    "from mlflow import client\n",
    "\n",
    "# for model building\n",
    "import sklearn\n",
    "from sklearn.datasets import load_breast_cancer\n",
    "from sklearn.model_selection import train_test_split\n",
    "from sklearn.naive_bayes import GaussianNB\n",
    "import pandas as pd"
   ]
  },
  {
   "cell_type": "code",
   "execution_count": null,
   "metadata": {},
   "outputs": [],
   "source": [
    "# Create a training job independent of mlflow\n",
    "\n",
    "\n",
    "# Load dataset\n",
    "data = load_breast_cancer()\n",
    "\n",
    "# Organize our data\n",
    "label_names = data['target_names']\n",
    "labels = data['target']\n",
    "feature_names = data['feature_names']\n",
    "features = data['data']\n",
    "\n",
    "# Split our data\n",
    "X_train, X_test, y_train, y_test = train_test_split(features,\n",
    "                                                    labels,\n",
    "                                                    test_size=0.33,\n",
    "                                                    random_state=42)\n",
    "\n",
    "# Initialize our classifier\n",
    "gnb = GaussianNB()\n",
    "\n",
    "# Train our classifier\n",
    "model = gnb.fit(X_train, y_train)\n",
    "\n",
    "train_pred_probs = model.predict_proba(X_train)[:, 0]\n",
    "\n",
    "valid_pred_probs = model.predict_proba(X_test)[:, 0]"
   ]
  },
  {
   "cell_type": "code",
   "execution_count": null,
   "metadata": {},
   "outputs": [],
   "source": [
    "# Now we have the model ready. Now create a PyModel for mlflow to manage\n",
    "# create a pymodel\n",
    "pymodel = PyModel(model=model, features=feature_names, split=0.33, feature_columns=feature_names,\n",
    "                  target_column=label_names,\n",
    "                  model_uuid=\"Demo_Model1\", model_tag=\"Demo_Model\", model_version=\"0.1\",\n",
    "                  train_actuals=y_train, train_pred_probs=train_pred_probs, valid_actuals=y_test,\n",
    "                  valid_pred_probs=valid_pred_probs)\n",
    "df = pymodel()\n",
    "print(df)"
   ]
  },
  {
   "cell_type": "code",
   "execution_count": null,
   "metadata": {},
   "outputs": [],
   "source": [
    "# Now create an mlflow client to upload the model to the model repo\n",
    "client = Client()\n",
    "client.upload_model(pymodel)"
   ]
  }
 ],
 "metadata": {
  "kernelspec": {
   "display_name": "Python 3",
   "language": "python",
   "name": "python3"
  },
  "language_info": {
   "codemirror_mode": {
    "name": "ipython",
    "version": 3
   },
   "file_extension": ".py",
   "mimetype": "text/x-python",
   "name": "python",
   "nbconvert_exporter": "python",
   "pygments_lexer": "ipython3",
   "version": "3.6.8"
  }
 },
 "nbformat": 4,
 "nbformat_minor": 2
}
